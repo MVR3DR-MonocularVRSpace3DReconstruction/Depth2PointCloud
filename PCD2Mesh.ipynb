{
 "cells": [
  {
   "cell_type": "code",
   "execution_count": 1,
   "id": "fefc18cf",
   "metadata": {},
   "outputs": [
    {
     "name": "stdout",
     "output_type": "stream",
     "text": [
      "Jupyter environment detected. Enabling Open3D WebVisualizer.\n",
      "[Open3D INFO] WebRTC GUI backend enabled.\n",
      "[Open3D INFO] WebRTCWindowSystem: HTTP handshake server disabled.\n"
     ]
    }
   ],
   "source": [
    "import numpy as np\n",
    "import open3d as o3d\n"
   ]
  },
  {
   "cell_type": "code",
   "execution_count": 2,
   "id": "19ac16eb",
   "metadata": {},
   "outputs": [],
   "source": [
    "pcd = o3d.io.read_point_cloud(\"./mapping/sample_1.ply\")\n"
   ]
  },
  {
   "cell_type": "code",
   "execution_count": 3,
   "id": "e3766b9e",
   "metadata": {},
   "outputs": [],
   "source": [
    "distances = pcd.compute_nearest_neighbor_distance()\n",
    "avg_dist = np.mean(distances)\n",
    "radius = 3 * avg_dist"
   ]
  },
  {
   "cell_type": "code",
   "execution_count": 4,
   "id": "c4142bb4",
   "metadata": {},
   "outputs": [],
   "source": [
    "bpa_mesh = o3d.geometry.TriangleMesh.create_from_point_cloud_ball_pivoting(pcd,o3d.utility.DoubleVector([radius, radius * 2]))"
   ]
  },
  {
   "cell_type": "code",
   "execution_count": 5,
   "id": "40844cfd",
   "metadata": {},
   "outputs": [
    {
     "data": {
      "text/plain": [
       "TriangleMesh with 72550 points and 99999 triangles."
      ]
     },
     "execution_count": 5,
     "metadata": {},
     "output_type": "execute_result"
    }
   ],
   "source": [
    "dec_mesh = bpa_mesh.simplify_quadric_decimation(100000)\n",
    "\n",
    "dec_mesh.remove_degenerate_triangles()\n",
    "dec_mesh.remove_duplicated_triangles()\n",
    "dec_mesh.remove_duplicated_vertices()\n",
    "dec_mesh.remove_non_manifold_edges()\n"
   ]
  },
  {
   "cell_type": "code",
   "execution_count": 6,
   "id": "38e32156",
   "metadata": {},
   "outputs": [],
   "source": [
    "o3d.visualization.draw_geometries([dec_mesh])"
   ]
  },
  {
   "cell_type": "markdown",
   "id": "572fe839",
   "metadata": {},
   "source": [
    "## METHOD: POISSON MESH ##"
   ]
  },
  {
   "cell_type": "code",
   "execution_count": 7,
   "id": "d47d8ebe",
   "metadata": {},
   "outputs": [],
   "source": [
    "poisson_mesh = o3d.geometry.TriangleMesh.create_from_point_cloud_poisson(pcd, depth=8, width=0, scale=1.1, linear_fit=False)[0]\n"
   ]
  },
  {
   "cell_type": "code",
   "execution_count": 8,
   "id": "d77a336b",
   "metadata": {},
   "outputs": [],
   "source": [
    "bbox = pcd.get_axis_aligned_bounding_box() \n",
    "p_mesh_crop = poisson_mesh.crop(bbox)\n"
   ]
  },
  {
   "cell_type": "code",
   "execution_count": 9,
   "id": "b1eb1933",
   "metadata": {},
   "outputs": [],
   "source": [
    "o3d.visualization.draw_geometries([p_mesh_crop])"
   ]
  },
  {
   "cell_type": "markdown",
   "id": "e4c76990",
   "metadata": {},
   "source": [
    "## COMBINED ##"
   ]
  },
  {
   "cell_type": "code",
   "execution_count": 10,
   "id": "4b99c40a",
   "metadata": {},
   "outputs": [],
   "source": [
    "o3d.visualization.draw_geometries([dec_mesh,p_mesh_crop])"
   ]
  }
 ],
 "metadata": {
  "kernelspec": {
   "display_name": "Python 3",
   "language": "python",
   "name": "python3"
  },
  "language_info": {
   "codemirror_mode": {
    "name": "ipython",
    "version": 3
   },
   "file_extension": ".py",
   "mimetype": "text/x-python",
   "name": "python",
   "nbconvert_exporter": "python",
   "pygments_lexer": "ipython3",
   "version": "3.8.8"
  }
 },
 "nbformat": 4,
 "nbformat_minor": 5
}
