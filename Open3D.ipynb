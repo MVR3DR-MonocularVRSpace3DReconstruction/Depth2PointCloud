{
 "cells": [
  {
   "cell_type": "code",
   "execution_count": 1,
   "id": "416c2cc1",
   "metadata": {},
   "outputs": [
    {
     "name": "stdout",
     "output_type": "stream",
     "text": [
      "Jupyter environment detected. Enabling Open3D WebVisualizer.\n",
      "[Open3D INFO] WebRTC GUI backend enabled.\n",
      "[Open3D INFO] WebRTCWindowSystem: HTTP handshake server disabled.\n"
     ]
    }
   ],
   "source": [
    "import numpy as np\n",
    "from time import time\n",
    "import matplotlib.pyplot as plt\n",
    "import matplotlib.image as mpimg\n",
    "import open3d as o3d"
   ]
  },
  {
   "cell_type": "code",
   "execution_count": 7,
   "id": "5fb59383",
   "metadata": {},
   "outputs": [],
   "source": [
    "def generate_point_cloud(pic1:str,pic2:str):\n",
    "    print(\"Read Redwood dataset\")\n",
    "    color_raw = o3d.io.read_image(pic1)\n",
    "    depth_raw = o3d.io.read_image(pic2)\n",
    "    rgbd_image = o3d.geometry.RGBDImage.create_from_color_and_depth(color_raw, depth_raw,convert_rgb_to_intensity=False)\n",
    "    pcd = o3d.geometry.PointCloud.create_from_rgbd_image(\n",
    "        rgbd_image,\n",
    "        o3d.camera.PinholeCameraIntrinsic(o3d.camera.PinholeCameraIntrinsicParameters.PrimeSenseDefault),\n",
    "#         o3d.camera.PinholeCameraIntrinsic(o3d.camera.PinholeCameraIntrinsicParameters.Kinect2DepthCameraDefault),\n",
    "#         project_valid_depth_only=False\n",
    "    )\n",
    "    # Flip it, otherwise the pointcloud will be upside down\n",
    "    pcd.transform([[1, 0, 0, 0], [0, -1, 0, 0], [0, 0, -1, 0], [0, 0, 0, 1]])\n",
    "    return pcd\n",
    "#     o3d.io.write_point_cloud(\"sample.ply\", pcd)"
   ]
  },
  {
   "cell_type": "code",
   "execution_count": 12,
   "id": "333abc67",
   "metadata": {},
   "outputs": [
    {
     "name": "stdout",
     "output_type": "stream",
     "text": [
      "Read Redwood dataset\n",
      "Read Redwood dataset\n",
      "Read Redwood dataset\n"
     ]
    }
   ],
   "source": [
    "sample_0 = generate_point_cloud('./data/redwood/image/00000.jpg','./data/redwood/depth/00000.png')\n",
    "sample_1 = generate_point_cloud('./data/redwood/image/00100.jpg','./data/redwood/depth/00100.png')\n",
    "sample_2 = generate_point_cloud('./data/redwood/image/00200.jpg','./data/redwood/depth/00200.png')"
   ]
  },
  {
   "cell_type": "code",
   "execution_count": 13,
   "id": "fcb07b2f",
   "metadata": {},
   "outputs": [
    {
     "name": "stdout",
     "output_type": "stream",
     "text": [
      "Read Redwood dataset\n",
      "Read Redwood dataset\n",
      "Read Redwood dataset\n"
     ]
    }
   ],
   "source": [
    "s_300 = generate_point_cloud('./data/redwood/image/00300.jpg','./data/redwood/depth/00300.png')\n",
    "s_325 = generate_point_cloud('./data/redwood/image/00325.jpg','./data/redwood/depth/00325.png')\n",
    "s_350 = generate_point_cloud('./data/redwood/image/00350.jpg','./data/redwood/depth/00350.png')"
   ]
  },
  {
   "cell_type": "code",
   "execution_count": 14,
   "id": "0eba9df5",
   "metadata": {},
   "outputs": [],
   "source": [
    "o3d.visualization.draw_geometries([sample_0])\n",
    "# o3d.visualization.draw_geometries([sample_1])\n",
    "# o3d.visualization.draw_geometries([sample_2])"
   ]
  },
  {
   "cell_type": "code",
   "execution_count": 11,
   "id": "5a8b77f2",
   "metadata": {},
   "outputs": [
    {
     "data": {
      "text/plain": [
       "True"
      ]
     },
     "execution_count": 11,
     "metadata": {},
     "output_type": "execute_result"
    }
   ],
   "source": [
    "o3d.io.write_point_cloud(\"s_325.ply\", s_325)"
   ]
  },
  {
   "cell_type": "code",
   "execution_count": 15,
   "id": "952d5fbe",
   "metadata": {},
   "outputs": [
    {
     "data": {
      "text/plain": [
       "True"
      ]
     },
     "execution_count": 15,
     "metadata": {},
     "output_type": "execute_result"
    }
   ],
   "source": [
    "o3d.io.write_point_cloud(\"sample_0.ply\", sample_0)\n",
    "o3d.io.write_point_cloud(\"sample_1.ply\", sample_1)\n",
    "o3d.io.write_point_cloud(\"sample_2.ply\", sample_2)"
   ]
  }
 ],
 "metadata": {
  "kernelspec": {
   "display_name": "Python 3",
   "language": "python",
   "name": "python3"
  },
  "language_info": {
   "codemirror_mode": {
    "name": "ipython",
    "version": 3
   },
   "file_extension": ".py",
   "mimetype": "text/x-python",
   "name": "python",
   "nbconvert_exporter": "python",
   "pygments_lexer": "ipython3",
   "version": "3.8.8"
  }
 },
 "nbformat": 4,
 "nbformat_minor": 5
}
