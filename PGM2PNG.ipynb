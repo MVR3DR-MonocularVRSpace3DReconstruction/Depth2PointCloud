{
 "cells": [
  {
   "cell_type": "code",
   "execution_count": 6,
   "id": "67a7fe84",
   "metadata": {},
   "outputs": [],
   "source": [
    "import os\n",
    "from PIL import Image\n",
    "\n",
    "for file in os.listdir():\n",
    "    filename, extension  = os.path.splitext(file)\n",
    "    if extension == \".pgm\":\n",
    "        new_file = \"{}.png\".format(filename)\n",
    "        with Image.open(file) as im:\n",
    "            im.save(new_file)"
   ]
  }
 ],
 "metadata": {
  "kernelspec": {
   "display_name": "Python 3 (ipykernel)",
   "language": "python",
   "name": "python3"
  },
  "language_info": {
   "codemirror_mode": {
    "name": "ipython",
    "version": 3
   },
   "file_extension": ".py",
   "mimetype": "text/x-python",
   "name": "python",
   "nbconvert_exporter": "python",
   "pygments_lexer": "ipython3",
   "version": "3.7.13"
  }
 },
 "nbformat": 4,
 "nbformat_minor": 5
}
